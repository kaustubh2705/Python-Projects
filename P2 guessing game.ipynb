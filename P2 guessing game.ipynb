{
 "cells": [
  {
   "cell_type": "code",
   "execution_count": 1,
   "metadata": {},
   "outputs": [
    {
     "name": "stdout",
     "output_type": "stream",
     "text": [
      "Guess a number between 1 and 10\n",
      "5\n",
      "You Guess it Right! You Win!\n",
      "Wanna play again? (y/n)y\n",
      "Guess a number between 1 and 10\n",
      "5\n",
      "Too High! Try again!\n",
      "Guess a number between 1 and 10\n",
      "4\n",
      "Too High! Try again!\n",
      "Guess a number between 1 and 10\n",
      "3\n",
      "Too High! Try again!\n",
      "Guess a number between 1 and 10\n",
      "2\n",
      "You Guess it Right! You Win!\n",
      "Wanna play again? (y/n)n\n",
      "Thanks for playing!\n"
     ]
    }
   ],
   "source": [
    "import random\n",
    "num = random.randint(1,10)\n",
    "\n",
    "while True:\n",
    "    numb = int(input('Guess a number between 1 and 10\\n'))\n",
    "    if numb>num:\n",
    "        print('Too High! Try again!')\n",
    "               \n",
    "    elif numb<num:\n",
    "        print('Too Low! Try again!')\n",
    "    else:\n",
    "        print('You Guess it Right! You Win!')\n",
    "        again = input('Wanna play again? (y/n)').lower()\n",
    "        if again == 'y':\n",
    "            num = random.randint(1,10)\n",
    "        else:\n",
    "            print('Thanks for playing!')\n",
    "            break\n",
    "                   "
   ]
  }
 ],
 "metadata": {
  "kernelspec": {
   "display_name": "Python 3",
   "language": "python",
   "name": "python3"
  },
  "language_info": {
   "codemirror_mode": {
    "name": "ipython",
    "version": 3
   },
   "file_extension": ".py",
   "mimetype": "text/x-python",
   "name": "python",
   "nbconvert_exporter": "python",
   "pygments_lexer": "ipython3",
   "version": "3.6.5"
  }
 },
 "nbformat": 4,
 "nbformat_minor": 2
}
